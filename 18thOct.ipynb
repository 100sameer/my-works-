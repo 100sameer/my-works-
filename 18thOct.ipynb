{
 "cells": [
  {
   "cell_type": "code",
   "execution_count": 1,
   "id": "85045d70-23a3-4b0c-ab0c-f8755324a4db",
   "metadata": {},
   "outputs": [
    {
     "name": "stdout",
     "output_type": "stream",
     "text": [
      "a is b: True\n",
      "a is c: False\n",
      "a is not c: True\n",
      "b is not c: True\n"
     ]
    }
   ],
   "source": [
    "a=[1,2,3]\n",
    "b=a\n",
    "c=[1,2,3]\n",
    "\n",
    "print(\"a is b:\", a is b)\n",
    "print(\"a is c:\",a is c)\n",
    "\n",
    "print(\"a is not c:\",a is not c)\n",
    "print(\"b is not c:\",b is not c)\n",
    "\n"
   ]
  },
  {
   "cell_type": "code",
   "execution_count": 3,
   "id": "8a49037b-9b2a-4eb8-9716-cf9c53c06a6c",
   "metadata": {},
   "outputs": [
    {
     "name": "stdout",
     "output_type": "stream",
     "text": [
      "3 in my_list: True\n",
      "10 in my_list False\n",
      "10 is not in my_list: True\n",
      "3 not in my_list: False\n"
     ]
    }
   ],
   "source": [
    "my_list=[1,2,3,4,5,]\n",
    "\n",
    "print(\"3 in my_list:\", 3 in my_list)\n",
    "print(\"10 in my_list\",10 in my_list)\n",
    "\n",
    "print(\"10 is not in my_list:\",10 not in my_list)\n",
    "print(\"3 not in my_list:\", 3 not in my_list)"
   ]
  },
  {
   "cell_type": "code",
   "execution_count": 5,
   "id": "dbff64da-2d9b-4fae-888e-66fb1fe4e379",
   "metadata": {},
   "outputs": [
    {
     "name": "stdout",
     "output_type": "stream",
     "text": [
      "False\n",
      "True\n",
      "False\n",
      "True\n",
      "False\n",
      "True\n"
     ]
    }
   ],
   "source": [
    "#Relational Operators\n",
    "\n",
    "a=10\n",
    "b=20\n",
    "\n",
    "print(a==b)\n",
    "print(a!=b)\n",
    "print(a>b)\n",
    "print(a<b)\n",
    "print(a>=b)\n",
    "print(a<=b)\n",
    "\n"
   ]
  },
  {
   "cell_type": "code",
   "execution_count": 6,
   "id": "302af60d-603a-4da4-910e-9a7d405b33bd",
   "metadata": {},
   "outputs": [
    {
     "name": "stdout",
     "output_type": "stream",
     "text": [
      "True\n",
      "False\n"
     ]
    }
   ],
   "source": [
    "x=5\n",
    "y=10\n",
    "z=15\n",
    "\n",
    "print(x<y<z)\n",
    "print(x>y<z)"
   ]
  },
  {
   "cell_type": "code",
   "execution_count": 7,
   "id": "5c445d17-7297-459d-8101-1a0c17eeed79",
   "metadata": {},
   "outputs": [
    {
     "name": "stdout",
     "output_type": "stream",
     "text": [
      "True\n"
     ]
    }
   ],
   "source": [
    "print(5>4.5)"
   ]
  },
  {
   "cell_type": "code",
   "execution_count": 8,
   "id": "df612064-2ca9-4f2a-bf79-bb67c8c1daf4",
   "metadata": {},
   "outputs": [
    {
     "name": "stdout",
     "output_type": "stream",
     "text": [
      "False\n",
      "False\n"
     ]
    }
   ],
   "source": [
    "print(\"apple\">\"banana\")\n",
    "print(\"apple\"==\"Apple\")"
   ]
  },
  {
   "cell_type": "code",
   "execution_count": 9,
   "id": "fc027e37-2dfd-43e9-bb3d-71e83496d5f8",
   "metadata": {},
   "outputs": [
    {
     "name": "stdout",
     "output_type": "stream",
     "text": [
      "You are eligible to vote\n"
     ]
    }
   ],
   "source": [
    "age = 18\n",
    "\n",
    "if age>=18:\n",
    "    print(\"You are eligible to vote\")\n",
    "else:\n",
    "    print(\"Your are not eligible\")"
   ]
  },
  {
   "cell_type": "code",
   "execution_count": 10,
   "id": "b9ba2298-077d-4c85-af3a-32c231fe7311",
   "metadata": {},
   "outputs": [
    {
     "name": "stdout",
     "output_type": "stream",
     "text": [
      "result: 7.0\n"
     ]
    }
   ],
   "source": [
    "# Implicit Type Conversion\n",
    "\n",
    "a=5\n",
    "b=2.0\n",
    "\n",
    "result = a+b\n",
    "print(\"result:\", result)"
   ]
  },
  {
   "cell_type": "code",
   "execution_count": 12,
   "id": "61e89d52-96bc-4ab5-b32b-3c0c3539865d",
   "metadata": {},
   "outputs": [
    {
     "name": "stdout",
     "output_type": "stream",
     "text": [
      "Result: 15\n",
      "String representation of y: 5\n"
     ]
    }
   ],
   "source": [
    "# Explicit Type Conversion\n",
    "\n",
    "x=\"10\"\n",
    "y=5\n",
    "\n",
    "x_as_int=int(x)\n",
    "result = x_as_int+y\n",
    "print(\"Result:\",result)\n",
    "\n",
    "y_as_str=str(y)\n",
    "print(\"String representation of y:\",y_as_str)"
   ]
  },
  {
   "cell_type": "code",
   "execution_count": 13,
   "id": "639b9c55-eee0-4c6f-8672-622996ab2c9a",
   "metadata": {},
   "outputs": [
    {
     "name": "stdout",
     "output_type": "stream",
     "text": [
      "List from string: ['h', 'e', 'l', 'l', 'o']\n",
      "List from tuple: [1, 2, 3]\n",
      "List from set: [4, 5, 6]\n"
     ]
    }
   ],
   "source": [
    "string_value = \"hello\"\n",
    "list_from_string=list(string_value)\n",
    "print(\"List from string:\",list_from_string)\n",
    "\n",
    "tuple_value=(1,2,3)\n",
    "list_from_tuple=list(tuple_value)\n",
    "print(\"List from tuple:\",list_from_tuple)\n",
    "\n",
    "set_value={4,5,6}\n",
    "list_from_set=list(set_value)\n",
    "print(\"List from set:\",list_from_set)"
   ]
  },
  {
   "cell_type": "code",
   "execution_count": 14,
   "id": "2dfe25c7-175d-41b5-8563-4aafb8a0f4f7",
   "metadata": {},
   "outputs": [
    {
     "name": "stdout",
     "output_type": "stream",
     "text": [
      "Tuple from list: (1, 2, 3)\n",
      "Tuple from string: ('H', 'e', 'l', 'l', 'o')\n",
      "Tuple from set: (4, 5, 6)\n"
     ]
    }
   ],
   "source": [
    "# Convert list to tuple\n",
    "list_value = [1, 2, 3]\n",
    "tuple_from_list = tuple(list_value)\n",
    "print(\"Tuple from list:\", tuple_from_list)\n",
    "\n",
    "# Convert string to tuple\n",
    "string_value = \"Hello\"\n",
    "tuple_from_string = tuple(string_value)\n",
    "print(\"Tuple from string:\", tuple_from_string) # Output: ('H', 'e', '1', '1', 'o')\n",
    "\n",
    "# Convert set to tuple\n",
    "set_value = {4, 5, 6}\n",
    "tuple_from_set = tuple(set_value)\n",
    "print(\"Tuple from set:\", tuple_from_set)"
   ]
  },
  {
   "cell_type": "code",
   "execution_count": 15,
   "id": "c556fef6-dcc1-49fd-8890-7e39b88f19d2",
   "metadata": {},
   "outputs": [
    {
     "name": "stdout",
     "output_type": "stream",
     "text": [
      "Set from list: {1, 2, 3}\n",
      "Set from string: {'o', 'l', 'H', 'e'}\n",
      "Set from tuple: {4, 5, 6}\n"
     ]
    }
   ],
   "source": [
    "list_value = [1, 2, 2, 3]\n",
    "set_from_list = set(list_value)\n",
    "print(\"Set from list:\", set_from_list)\n",
    "\n",
    "# Convert string to set\n",
    "string_value = \"Hello\"\n",
    "set_from_string = set(string_value)\n",
    "print(\"Set from string:\", set_from_string)\n",
    "\n",
    "# Convert tuple to set\n",
    "tuple_value = (4, 4, 5, 6)\n",
    "set_from_tuple = set(tuple_value)\n",
    "print(\"Set from tuple:\", set_from_tuple)\n"
   ]
  },
  {
   "cell_type": "code",
   "execution_count": 16,
   "id": "9f52297d-e68e-4c60-bc5c-091af783d3b2",
   "metadata": {},
   "outputs": [
    {
     "name": "stdout",
     "output_type": "stream",
     "text": [
      "Hello, World\n"
     ]
    }
   ],
   "source": [
    "print(\"Hello, World\")"
   ]
  },
  {
   "cell_type": "code",
   "execution_count": 17,
   "id": "7553d2ff-a7be-40f9-a1f7-d32059beaa13",
   "metadata": {},
   "outputs": [
    {
     "name": "stdin",
     "output_type": "stream",
     "text": [
      "Enter your name: chinmay\n"
     ]
    },
    {
     "name": "stdout",
     "output_type": "stream",
     "text": [
      "Hello, chinmay!\n"
     ]
    }
   ],
   "source": [
    "name = input(\"Enter your name:\")\n",
    "print(\"Hello, \"+ name + \"!\")"
   ]
  },
  {
   "cell_type": "code",
   "execution_count": 18,
   "id": "532df5b6-b285-4373-8473-8083929aae87",
   "metadata": {},
   "outputs": [
    {
     "name": "stdin",
     "output_type": "stream",
     "text": [
      "Enter your Age:  34\n"
     ]
    },
    {
     "name": "stdout",
     "output_type": "stream",
     "text": [
      "You are 34 years old.\n"
     ]
    }
   ],
   "source": [
    "age = int(input(\"Enter your Age: \"))\n",
    "print(\"You are\",age,\"years old.\")"
   ]
  },
  {
   "cell_type": "code",
   "execution_count": 19,
   "id": "82be1e88-a127-4d91-ab57-d414ba1ece3f",
   "metadata": {},
   "outputs": [
    {
     "name": "stdin",
     "output_type": "stream",
     "text": [
      "Enter the first number 3\n",
      "Enter the second number 5\n"
     ]
    },
    {
     "name": "stdout",
     "output_type": "stream",
     "text": [
      "The sum of  3.0 and 5.0 is 8.0\n"
     ]
    }
   ],
   "source": [
    "num1 = float(input(\"Enter the first number\"))\n",
    "num2 = float(input(\"Enter the second number\"))\n",
    "\n",
    "print(\"The sum of \",num1,\"and\",num2,\"is\",num1+num2)"
   ]
  },
  {
   "cell_type": "code",
   "execution_count": 20,
   "id": "77a3fbf4-bb9b-4c20-b63c-2ac17a27bc28",
   "metadata": {},
   "outputs": [
    {
     "name": "stdin",
     "output_type": "stream",
     "text": [
      "Enter your name:  Chinmay\n",
      "Enter your age:  43\n"
     ]
    },
    {
     "name": "stdout",
     "output_type": "stream",
     "text": [
      "Hello, Chinmay! You are 43 years old.\n"
     ]
    }
   ],
   "source": [
    "name = input(\"Enter your name: \")\n",
    "age = int(input(\"Enter your age: \"))\n",
    "\n",
    "print(f\"Hello, {name}! You are {age} years old.\")"
   ]
  },
  {
   "cell_type": "code",
   "execution_count": 21,
   "id": "f44ce5cc-04cd-4474-93ff-a8b434eb0f94",
   "metadata": {},
   "outputs": [
    {
     "name": "stdin",
     "output_type": "stream",
     "text": [
      "Enter three values separated by space:  4 5 6 \n"
     ]
    },
    {
     "name": "stdout",
     "output_type": "stream",
     "text": [
      "The values you entered are: 4 5 6\n"
     ]
    }
   ],
   "source": [
    "a, b, c = input(\"Enter three values separated by space: \").split()\n",
    "\n",
    "print(\"The values you entered are:\", a, b, c)"
   ]
  },
  {
   "cell_type": "code",
   "execution_count": 22,
   "id": "84d89411-16a1-45b0-8e63-46b4a404a413",
   "metadata": {},
   "outputs": [
    {
     "name": "stdin",
     "output_type": "stream",
     "text": [
      "Enter the first integer: 3\n",
      "Enter the second integer: 5\n"
     ]
    },
    {
     "name": "stdout",
     "output_type": "stream",
     "text": [
      "The product of 3 and 5 is 15\n"
     ]
    }
   ],
   "source": [
    "num1 = int(input(\"Enter the first integer:\"))\n",
    "num2 = int(input(\"Enter the second integer:\"))\n",
    "\n",
    "print(\"The product of\",num1,\"and\",num2,\"is\",num1*num2)"
   ]
  },
  {
   "cell_type": "code",
   "execution_count": 25,
   "id": "e3ab7d02-7f49-42c4-acfc-ced8f4f10ac5",
   "metadata": {},
   "outputs": [
    {
     "name": "stdout",
     "output_type": "stream",
     "text": [
      "python-is-fun\n",
      "Hello world!\n"
     ]
    }
   ],
   "source": [
    "print(\"python\",\"is\",\"fun\",sep=\"-\")\n",
    "\n",
    "print(\"Hello\",end=\" \")\n",
    "print(\"world!\")"
   ]
  },
  {
   "cell_type": "code",
   "execution_count": 26,
   "id": "78db496a-f3f4-4f5b-99c0-af3c2a7f1dc4",
   "metadata": {},
   "outputs": [
    {
     "name": "stdin",
     "output_type": "stream",
     "text": [
      "Enter the first number:  23\n",
      "Enter the second number:  45\n",
      "Enter the third number:  56\n"
     ]
    },
    {
     "name": "stdout",
     "output_type": "stream",
     "text": [
      "The average of 23.0, 45.0, and 56.0 is 41.333333333333336\n"
     ]
    }
   ],
   "source": [
    "num1 = float(input(\"Enter the first number: \"))\n",
    "num2 = float(input(\"Enter the second number: \"))\n",
    "num3 = float(input(\"Enter the third number: \"))\n",
    "\n",
    "average = (num1 + num2 + num3) / 3\n",
    "\n",
    "print(f\"The average of {num1}, {num2}, and {num3} is {average}\")"
   ]
  },
  {
   "cell_type": "code",
   "execution_count": 28,
   "id": "68772b41-34e6-4074-bb15-735d27958cbf",
   "metadata": {},
   "outputs": [
    {
     "name": "stdin",
     "output_type": "stream",
     "text": [
      "Enter your age:  34\n"
     ]
    },
    {
     "name": "stdout",
     "output_type": "stream",
     "text": [
      "You are eligible to vote.\n"
     ]
    }
   ],
   "source": [
    "age = int(input(\"Enter your age: \"))\n",
    "\n",
    "if age >= 18:\n",
    "    print(\"You are eligible to vote.\")\n",
    "else:\n",
    "    print(\"You are not eligible to vote.\")"
   ]
  },
  {
   "cell_type": "code",
   "execution_count": 29,
   "id": "d89190f5-958d-4432-8deb-b9a86b186ada",
   "metadata": {},
   "outputs": [
    {
     "name": "stdin",
     "output_type": "stream",
     "text": [
      "Enter three numbers separated by spaces:  3 4 6\n"
     ]
    },
    {
     "name": "stdout",
     "output_type": "stream",
     "text": [
      "The sum of 3, 4, and 6 is 13\n"
     ]
    }
   ],
   "source": [
    "num1, num2, num3 = map(int, input(\"Enter three numbers separated by spaces: \").split())\n",
    "\n",
    "print(f\"The sum of {num1}, {num2}, and {num3} is {num1+ num2 + num3}\")"
   ]
  },
  {
   "cell_type": "code",
   "execution_count": 30,
   "id": "103be505-d086-4467-bf6e-226152de7673",
   "metadata": {},
   "outputs": [
    {
     "name": "stdin",
     "output_type": "stream",
     "text": [
      "Enter a sentence:  fdsbfjhsdfjsd\n"
     ]
    },
    {
     "name": "stdout",
     "output_type": "stream",
     "text": [
      "The length of the sentence is: 13\n",
      "Uppercase: FDSBFJHSDFJSD\n",
      "Reversed: dsjfdshjfbsdf\n"
     ]
    }
   ],
   "source": [
    "text = input(\"Enter a sentence: \")\n",
    "\n",
    "print(f\"The length of the sentence is: {len(text)}\")\n",
    "\n",
    "print(f\"Uppercase: {text.upper()}\")\n",
    "\n",
    "print(f\"Reversed: {text[ ::- 1]}\")"
   ]
  },
  {
   "cell_type": "code",
   "execution_count": 32,
   "id": "2103dd2f-afde-4019-ad11-db779b286fe5",
   "metadata": {},
   "outputs": [
    {
     "name": "stdin",
     "output_type": "stream",
     "text": [
      "Enter number of rows for the pattern:  7\n"
     ]
    },
    {
     "name": "stdout",
     "output_type": "stream",
     "text": [
      "*\n",
      "**\n",
      "***\n",
      "****\n",
      "*****\n",
      "******\n",
      "*******\n"
     ]
    }
   ],
   "source": [
    "n = int(input(\"Enter number of rows for the pattern: \"))\n",
    "\n",
    "for i in range(1, n+1):\n",
    "    print('*'* i)"
   ]
  },
  {
   "cell_type": "code",
   "execution_count": 35,
   "id": "0e89446e-0bcf-4cec-b0cd-a628d74b22c9",
   "metadata": {},
   "outputs": [
    {
     "name": "stdin",
     "output_type": "stream",
     "text": [
      "Enter a number:  7\n",
      "Enter another number:  9\n"
     ]
    },
    {
     "name": "stdout",
     "output_type": "stream",
     "text": [
      "The result of 7.0 divided by 9.0 is 0.78\n"
     ]
    }
   ],
   "source": [
    "num1 = float(input(\"Enter a number: \"))\n",
    "num2 = float(input(\"Enter another number: \"))\n",
    "\n",
    "result = num1 / num2\n",
    "\n",
    "print(f\"The result of {num1} divided by {num2} is {result:.2f}\")"
   ]
  },
  {
   "cell_type": "code",
   "execution_count": 36,
   "id": "17340d49-6cff-459d-a6f6-3534e62e452e",
   "metadata": {},
   "outputs": [
    {
     "name": "stdin",
     "output_type": "stream",
     "text": [
      "Enter some words separated by spaces:  4 5 6\n"
     ]
    },
    {
     "name": "stdout",
     "output_type": "stream",
     "text": [
      "Hyphenated output: 4-5-6\n"
     ]
    }
   ],
   "source": [
    "words = input(\"Enter some words separated by spaces: \").split()\n",
    "\n",
    "output ='-'.join(words)\n",
    "\n",
    "print(f\"Hyphenated output: {output}\")"
   ]
  },
  {
   "cell_type": "code",
   "execution_count": 37,
   "id": "ce31622f-4139-4f93-bcaa-2957168f1ac3",
   "metadata": {},
   "outputs": [
    {
     "name": "stdin",
     "output_type": "stream",
     "text": [
      "Enter the base number:  34\n",
      "Enter the exponent:  45\n"
     ]
    },
    {
     "name": "stdout",
     "output_type": "stream",
     "text": [
      "34 raised to the power of 45 is 825184889837725994971915471173621692744697928074424045623011467853824\n"
     ]
    }
   ],
   "source": [
    "base = int(input(\"Enter the base number: \"))\n",
    "exponent = int(input(\"Enter the exponent: \"))\n",
    "\n",
    "result = base ** exponent\n",
    "\n",
    "print(f\"{base} raised to the power of {exponent} is {result}\")"
   ]
  },
  {
   "cell_type": "code",
   "execution_count": 38,
   "id": "54736e05-8daf-44d4-a0a7-c5868a5cc6ad",
   "metadata": {},
   "outputs": [
    {
     "name": "stdin",
     "output_type": "stream",
     "text": [
      "Enter the first number:  3\n",
      "Enter the second number:  4\n"
     ]
    },
    {
     "name": "stdout",
     "output_type": "stream",
     "text": [
      "The sum of 3 and 4 is 7\n"
     ]
    }
   ],
   "source": [
    "num1 = int(input(\"Enter the first number: \"))\n",
    "num2 = int(input(\"Enter the second number: \"))\n",
    "\n",
    "print(\"The sum of {} and {} is {}\".format(num1, num2, num1+num2))"
   ]
  },
  {
   "cell_type": "code",
   "execution_count": 39,
   "id": "600c96df-7205-44fa-af3b-3ce76932ee67",
   "metadata": {},
   "outputs": [
    {
     "name": "stdin",
     "output_type": "stream",
     "text": [
      "Enter a key (e.g., name):  34\n",
      "Enter a value for 34:  6\n"
     ]
    },
    {
     "name": "stdout",
     "output_type": "stream",
     "text": [
      "Dictionary: {'34': '6'}\n"
     ]
    }
   ],
   "source": [
    "key = input(\"Enter a key (e.g., name): \")\n",
    "value = input(f\"Enter a value for {key}: \")\n",
    "\n",
    "my_dict = {key: value}\n",
    "\n",
    "print(f\"Dictionary: {my_dict}\")"
   ]
  },
  {
   "cell_type": "code",
   "execution_count": null,
   "id": "96c3730c-3e75-4ea9-9922-febf8f9b48bd",
   "metadata": {},
   "outputs": [],
   "source": []
  }
 ],
 "metadata": {
  "kernelspec": {
   "display_name": "Python 3 (ipykernel)",
   "language": "python",
   "name": "python3"
  },
  "language_info": {
   "codemirror_mode": {
    "name": "ipython",
    "version": 3
   },
   "file_extension": ".py",
   "mimetype": "text/x-python",
   "name": "python",
   "nbconvert_exporter": "python",
   "pygments_lexer": "ipython3",
   "version": "3.12.4"
  }
 },
 "nbformat": 4,
 "nbformat_minor": 5
}
